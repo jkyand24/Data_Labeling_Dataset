{
 "cells": [
  {
   "cell_type": "code",
   "execution_count": 6,
   "metadata": {},
   "outputs": [
    {
     "name": "stdout",
     "output_type": "stream",
     "text": [
      "\n",
      "image_info: [<Element 'image' at 0x00000297B9D88310>]\n",
      "\n",
      "box_info: [<Element 'box' at 0x00000297B9D88360>, <Element 'box' at 0x00000297B9D883B0>]\n"
     ]
    }
   ],
   "source": [
    "import os\n",
    "import cv2\n",
    "import matplotlib.pyplot as plt\n",
    "from xml.etree.ElementTree import parse\n",
    "\n",
    "# label 매칭해줄 dictionary 준비하기\n",
    "\n",
    "label_dict = {'cat': 0, 'dog': 1}\n",
    "\n",
    "#\n",
    "\n",
    "def xml_read(xml_path):\n",
    "    # image들 정보 가져오기\n",
    "    \n",
    "    root = parse(xml_path).getroot()\n",
    "    image_info = root.findall(\"image\")\n",
    "    \n",
    "    print(\"\\nimage_info:\", image_info)\n",
    "    \n",
    "    # image 하나씩에 대해\n",
    "    \n",
    "    for image in image_info:\n",
    "        # box들 정보 가져오기\n",
    "        \n",
    "        box_info = image.findall(\"box\")\n",
    "        \n",
    "        print(\"\\nbox_info:\", box_info)\n",
    "        \n",
    "        # image의 width, height 정보 가져오기\n",
    "        \n",
    "        image_width = int(image.attrib['width'])\n",
    "        image_height = int(image.attrib['height'])\n",
    "        \n",
    "        # image 가져오기, image_name_temp\n",
    "        \n",
    "        image_name = image.attrib['name']\n",
    "        image_name_temp = image_name\n",
    "        image_name_temp = image_name_temp.replace('.jpg', '')\n",
    "        image_name = os.path.join(\"./data/xml_image/\", image_name)\n",
    "        image = cv2.imread(image_name)\n",
    "        image = cv2.cvtColor(image, cv2.COLOR_BGR2RGB)\n",
    "        \n",
    "        # box 하나씩에 대해\n",
    "        \n",
    "        for box in box_info:\n",
    "            # box의 label 가져오기\n",
    "            \n",
    "            label = box.attrib['label']\n",
    "            label_number = label_dict[label]\n",
    "            \n",
    "            # box의 좌표 가져오기, yolo 좌표 형태로 변환\n",
    "            \n",
    "            xtl = int(float(box.attrib['xtl']))\n",
    "            ytl = int(float(box.attrib['ytl']))\n",
    "            xbr = int(float(box.attrib['xbr']))\n",
    "            ybr = int(float(box.attrib['ybr']))\n",
    "            \n",
    "            yolo_xcenter = (xtl + xbr) / (2 * image_width)\n",
    "            yolo_ycenter = (ytl + ybr) / (2 * image_height)\n",
    "            yolo_width = (xbr - xtl) / image_width\n",
    "            yolo_height = (ybr - ytl) / image_height\n",
    "            \n",
    "            # txt 파일로 저장\n",
    "            \n",
    "            with open(f\"{image_name_temp}.txt\", \"a\") as f:\n",
    "                f.write(f\"{label_number} {yolo_xcenter} {yolo_ycenter} {yolo_width} {yolo_height}\\n\")\n",
    "        \n",
    "xml_read(\"./data/xml_annotation/annotations.xml\")"
   ]
  },
  {
   "cell_type": "code",
   "execution_count": null,
   "metadata": {},
   "outputs": [],
   "source": []
  }
 ],
 "metadata": {
  "kernelspec": {
   "display_name": "AI",
   "language": "python",
   "name": "ai"
  },
  "language_info": {
   "codemirror_mode": {
    "name": "ipython",
    "version": 3
   },
   "file_extension": ".py",
   "mimetype": "text/x-python",
   "name": "python",
   "nbconvert_exporter": "python",
   "pygments_lexer": "ipython3",
   "version": "3.8.16"
  },
  "orig_nbformat": 4
 },
 "nbformat": 4,
 "nbformat_minor": 2
}
