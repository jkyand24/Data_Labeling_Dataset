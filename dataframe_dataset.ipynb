{
 "cells": [
  {
   "cell_type": "code",
   "execution_count": 8,
   "metadata": {},
   "outputs": [
    {
     "name": "stdout",
     "output_type": "stream",
     "text": [
      "\n",
      "df:\n",
      "        bedrooms  bathrooms  sqft_living  sqft_lot  floors     price\n",
      "0             3       1.00         1180      5650     1.0  221900.0\n",
      "1             3       2.25         2570      7242     2.0  538000.0\n",
      "2             2       1.00          770     10000     1.0  180000.0\n",
      "3             4       3.00         1960      5000     1.0  604000.0\n",
      "4             3       2.00         1680      8080     1.0  510000.0\n",
      "...         ...        ...          ...       ...     ...       ...\n",
      "21608         3       2.50         1530      1131     3.0  360000.0\n",
      "21609         4       2.50         2310      5813     2.0  400000.0\n",
      "21610         2       0.75         1020      1350     2.0  402101.0\n",
      "21611         3       2.50         1600      2388     2.0  400000.0\n",
      "21612         2       0.75         1020      1076     2.0  325000.0\n",
      "\n",
      "[21613 rows x 6 columns]\n"
     ]
    }
   ],
   "source": [
    "import pandas as pd\n",
    "from sklearn.model_selection import train_test_split\n",
    "\n",
    "url = 'https://raw.githubusercontent.com/mGalarnyk/Tutorial_Data/master/King_County/kingCountyHouseData.csv'\n",
    "df = pd.read_csv(url)\n",
    "\n",
    "columns = ['bedrooms', 'bathrooms', 'sqft_living', 'sqft_lot', 'floors', 'price']\n",
    "df = df.loc[:, columns]\n",
    "\n",
    "print(\"\\ndf:\\n\", df)"
   ]
  },
  {
   "cell_type": "code",
   "execution_count": 9,
   "metadata": {},
   "outputs": [
    {
     "name": "stdout",
     "output_type": "stream",
     "text": [
      "\n",
      "x_data:\n",
      "        bedrooms  bathrooms  sqft_living  sqft_lot  floors\n",
      "0             3       1.00         1180      5650     1.0\n",
      "1             3       2.25         2570      7242     2.0\n",
      "2             2       1.00          770     10000     1.0\n",
      "3             4       3.00         1960      5000     1.0\n",
      "4             3       2.00         1680      8080     1.0\n",
      "...         ...        ...          ...       ...     ...\n",
      "21608         3       2.50         1530      1131     3.0\n",
      "21609         4       2.50         2310      5813     2.0\n",
      "21610         2       0.75         1020      1350     2.0\n",
      "21611         3       2.50         1600      2388     2.0\n",
      "21612         2       0.75         1020      1076     2.0\n",
      "\n",
      "[21613 rows x 5 columns]\n",
      "\n",
      "y_data:\n",
      "           price\n",
      "0      221900.0\n",
      "1      538000.0\n",
      "2      180000.0\n",
      "3      604000.0\n",
      "4      510000.0\n",
      "...         ...\n",
      "21608  360000.0\n",
      "21609  400000.0\n",
      "21610  402101.0\n",
      "21611  400000.0\n",
      "21612  325000.0\n",
      "\n",
      "[21613 rows x 1 columns]\n"
     ]
    }
   ],
   "source": [
    "features_data = ['bedrooms', 'bathrooms', 'sqft_living', 'sqft_lot', 'floors']\n",
    "target_data = ['price']\n",
    "\n",
    "x_data = df.loc[:, features_data]\n",
    "y_data = df.loc[:, target_data]\n",
    "\n",
    "print(\"\\nx_data:\\n\", x_data)\n",
    "print(\"\\ny_data:\\n\", y_data)"
   ]
  },
  {
   "cell_type": "code",
   "execution_count": 10,
   "metadata": {},
   "outputs": [
    {
     "name": "stdout",
     "output_type": "stream",
     "text": [
      "-------------변경 전 shape---------------\n",
      "\n",
      "x_data.shape:\n",
      " (21613, 5)\n",
      "\n",
      "y_data.shape:\n",
      " (21613, 1)\n",
      "-------------변경 후 shape---------------\n",
      "\n",
      "x_train.shape:\n",
      " (16209, 5)\n",
      "\n",
      "y_train.shape:\n",
      " (16209, 1)\n",
      "\n",
      "x_test.shape:\n",
      " (5404, 5)\n",
      "\n",
      "y_test.shape:\n",
      " (5404, 1)\n"
     ]
    }
   ],
   "source": [
    "x_train, x_test, y_train, y_test = train_test_split(x_data, y_data, random_state=777, train_size=0.75)\n",
    "\n",
    "print(\"-------------변경 전 shape---------------\")\n",
    "print(\"\\nx_data.shape:\\n\", x_data.shape)\n",
    "print(\"\\ny_data.shape:\\n\", y_data.shape)\n",
    "\n",
    "print(\"-------------변경 후 shape---------------\")\n",
    "print(\"\\nx_train.shape:\\n\", x_train.shape)\n",
    "print(\"\\ny_train.shape:\\n\", y_train.shape)\n",
    "print(\"\\nx_test.shape:\\n\", x_test.shape)\n",
    "print(\"\\ny_test.shape:\\n\", y_test.shape)"
   ]
  },
  {
   "cell_type": "code",
   "execution_count": null,
   "metadata": {},
   "outputs": [],
   "source": []
  }
 ],
 "metadata": {
  "kernelspec": {
   "display_name": "AI",
   "language": "python",
   "name": "ai"
  },
  "language_info": {
   "codemirror_mode": {
    "name": "ipython",
    "version": 3
   },
   "file_extension": ".py",
   "mimetype": "text/x-python",
   "name": "python",
   "nbconvert_exporter": "python",
   "pygments_lexer": "ipython3",
   "version": "3.8.16"
  },
  "orig_nbformat": 4
 },
 "nbformat": 4,
 "nbformat_minor": 2
}
